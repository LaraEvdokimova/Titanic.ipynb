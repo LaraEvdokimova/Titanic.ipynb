// https://colab.research.google.com/notebooks/intro.ipynb#

import pandas as pd
url = 'https://raw.githubusercontent.com/chrisalbon/simulated_datasets/master/titanic.csv'
df = pd.read_csv(url)
df.head(10)
df.shape

df.describe()

df.loc[1313] = ["Jack", "3rd", 17, "male", 0, 0]
df.loc[1314] = ["Rosa", "3rd", 17, "female", 1, 1]

df.shape

// Давай посмотрим, сколько у нас выживших

df[df['Survived'] == 1].shape

df.groupby('Sex').mean()

df[ (df["Age"] > 17) & (df['PClass'] == "1st") & (df["Age"] < 23)].groupby("Sex").mean()

df[ (df["Age"] > 50) & (df['PClass'] == "3rd") & (df["Age"] < 80)].groupby("Sex").mean()

df[ (df["Age"] > 17) & (df['PClass'] == "1st") & (df["Age"] < 38) & (df["Sex"] == "female")].shape

df.insert(6, "quantity", 1) 

import matplotlib.pyplot as plt
age = df.groupby("Age").sum()['Survived']
plt.plot(age)

